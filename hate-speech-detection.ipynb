{
  "cells": [
    {
      "cell_type": "markdown",
      "metadata": {
        "id": "MNLy_FN0uOOp"
      },
      "source": [
        "**Hate Speech Detection**\n",
        "\n",
        "**Objective -**\n",
        "\n",
        "*In this assignment, we will apply NLP techniques to build a hate speech detection model, so we will -*\n",
        "\n",
        "1) load and explore the dataset\n",
        "\n",
        "2) process text data\n",
        "\n",
        "3) extract the features\n",
        "\n",
        "4) train the classifier and evaluate its performance"
      ]
    },
    {
      "cell_type": "markdown",
      "metadata": {
        "id": "HZIGziWfusQn"
      },
      "source": [
        "**Task 1 : Data Loading and Exploration**\n",
        "\n",
        "*(a) Load the Dataset*\n",
        "\n",
        "we start loading the data using pandas"
      ]
    },
    {
      "cell_type": "code",
      "execution_count": null,
      "metadata": {
        "colab": {
          "base_uri": "https://localhost:8080/",
          "height": 142
        },
        "id": "7b7DkB5DsKP0",
        "outputId": "4d1ec1a3-f720-44ad-9bc4-7c65bf5feddd"
      },
      "outputs": [
        {
          "name": "stdout",
          "output_type": "stream",
          "text": [
            "upload necessary files!\n"
          ]
        },
        {
          "data": {
            "text/html": [
              "\n",
              "     <input type=\"file\" id=\"files-7348ac94-d00a-4b7e-a63a-cba5d5a0ab25\" name=\"files[]\" multiple disabled\n",
              "        style=\"border:none\" />\n",
              "     <output id=\"result-7348ac94-d00a-4b7e-a63a-cba5d5a0ab25\">\n",
              "      Upload widget is only available when the cell has been executed in the\n",
              "      current browser session. Please rerun this cell to enable.\n",
              "      </output>\n",
              "      <script>// Copyright 2017 Google LLC\n",
              "//\n",
              "// Licensed under the Apache License, Version 2.0 (the \"License\");\n",
              "// you may not use this file except in compliance with the License.\n",
              "// You may obtain a copy of the License at\n",
              "//\n",
              "//      http://www.apache.org/licenses/LICENSE-2.0\n",
              "//\n",
              "// Unless required by applicable law or agreed to in writing, software\n",
              "// distributed under the License is distributed on an \"AS IS\" BASIS,\n",
              "// WITHOUT WARRANTIES OR CONDITIONS OF ANY KIND, either express or implied.\n",
              "// See the License for the specific language governing permissions and\n",
              "// limitations under the License.\n",
              "\n",
              "/**\n",
              " * @fileoverview Helpers for google.colab Python module.\n",
              " */\n",
              "(function(scope) {\n",
              "function span(text, styleAttributes = {}) {\n",
              "  const element = document.createElement('span');\n",
              "  element.textContent = text;\n",
              "  for (const key of Object.keys(styleAttributes)) {\n",
              "    element.style[key] = styleAttributes[key];\n",
              "  }\n",
              "  return element;\n",
              "}\n",
              "\n",
              "// Max number of bytes which will be uploaded at a time.\n",
              "const MAX_PAYLOAD_SIZE = 100 * 1024;\n",
              "\n",
              "function _uploadFiles(inputId, outputId) {\n",
              "  const steps = uploadFilesStep(inputId, outputId);\n",
              "  const outputElement = document.getElementById(outputId);\n",
              "  // Cache steps on the outputElement to make it available for the next call\n",
              "  // to uploadFilesContinue from Python.\n",
              "  outputElement.steps = steps;\n",
              "\n",
              "  return _uploadFilesContinue(outputId);\n",
              "}\n",
              "\n",
              "// This is roughly an async generator (not supported in the browser yet),\n",
              "// where there are multiple asynchronous steps and the Python side is going\n",
              "// to poll for completion of each step.\n",
              "// This uses a Promise to block the python side on completion of each step,\n",
              "// then passes the result of the previous step as the input to the next step.\n",
              "function _uploadFilesContinue(outputId) {\n",
              "  const outputElement = document.getElementById(outputId);\n",
              "  const steps = outputElement.steps;\n",
              "\n",
              "  const next = steps.next(outputElement.lastPromiseValue);\n",
              "  return Promise.resolve(next.value.promise).then((value) => {\n",
              "    // Cache the last promise value to make it available to the next\n",
              "    // step of the generator.\n",
              "    outputElement.lastPromiseValue = value;\n",
              "    return next.value.response;\n",
              "  });\n",
              "}\n",
              "\n",
              "/**\n",
              " * Generator function which is called between each async step of the upload\n",
              " * process.\n",
              " * @param {string} inputId Element ID of the input file picker element.\n",
              " * @param {string} outputId Element ID of the output display.\n",
              " * @return {!Iterable<!Object>} Iterable of next steps.\n",
              " */\n",
              "function* uploadFilesStep(inputId, outputId) {\n",
              "  const inputElement = document.getElementById(inputId);\n",
              "  inputElement.disabled = false;\n",
              "\n",
              "  const outputElement = document.getElementById(outputId);\n",
              "  outputElement.innerHTML = '';\n",
              "\n",
              "  const pickedPromise = new Promise((resolve) => {\n",
              "    inputElement.addEventListener('change', (e) => {\n",
              "      resolve(e.target.files);\n",
              "    });\n",
              "  });\n",
              "\n",
              "  const cancel = document.createElement('button');\n",
              "  inputElement.parentElement.appendChild(cancel);\n",
              "  cancel.textContent = 'Cancel upload';\n",
              "  const cancelPromise = new Promise((resolve) => {\n",
              "    cancel.onclick = () => {\n",
              "      resolve(null);\n",
              "    };\n",
              "  });\n",
              "\n",
              "  // Wait for the user to pick the files.\n",
              "  const files = yield {\n",
              "    promise: Promise.race([pickedPromise, cancelPromise]),\n",
              "    response: {\n",
              "      action: 'starting',\n",
              "    }\n",
              "  };\n",
              "\n",
              "  cancel.remove();\n",
              "\n",
              "  // Disable the input element since further picks are not allowed.\n",
              "  inputElement.disabled = true;\n",
              "\n",
              "  if (!files) {\n",
              "    return {\n",
              "      response: {\n",
              "        action: 'complete',\n",
              "      }\n",
              "    };\n",
              "  }\n",
              "\n",
              "  for (const file of files) {\n",
              "    const li = document.createElement('li');\n",
              "    li.append(span(file.name, {fontWeight: 'bold'}));\n",
              "    li.append(span(\n",
              "        `(${file.type || 'n/a'}) - ${file.size} bytes, ` +\n",
              "        `last modified: ${\n",
              "            file.lastModifiedDate ? file.lastModifiedDate.toLocaleDateString() :\n",
              "                                    'n/a'} - `));\n",
              "    const percent = span('0% done');\n",
              "    li.appendChild(percent);\n",
              "\n",
              "    outputElement.appendChild(li);\n",
              "\n",
              "    const fileDataPromise = new Promise((resolve) => {\n",
              "      const reader = new FileReader();\n",
              "      reader.onload = (e) => {\n",
              "        resolve(e.target.result);\n",
              "      };\n",
              "      reader.readAsArrayBuffer(file);\n",
              "    });\n",
              "    // Wait for the data to be ready.\n",
              "    let fileData = yield {\n",
              "      promise: fileDataPromise,\n",
              "      response: {\n",
              "        action: 'continue',\n",
              "      }\n",
              "    };\n",
              "\n",
              "    // Use a chunked sending to avoid message size limits. See b/62115660.\n",
              "    let position = 0;\n",
              "    do {\n",
              "      const length = Math.min(fileData.byteLength - position, MAX_PAYLOAD_SIZE);\n",
              "      const chunk = new Uint8Array(fileData, position, length);\n",
              "      position += length;\n",
              "\n",
              "      const base64 = btoa(String.fromCharCode.apply(null, chunk));\n",
              "      yield {\n",
              "        response: {\n",
              "          action: 'append',\n",
              "          file: file.name,\n",
              "          data: base64,\n",
              "        },\n",
              "      };\n",
              "\n",
              "      let percentDone = fileData.byteLength === 0 ?\n",
              "          100 :\n",
              "          Math.round((position / fileData.byteLength) * 100);\n",
              "      percent.textContent = `${percentDone}% done`;\n",
              "\n",
              "    } while (position < fileData.byteLength);\n",
              "  }\n",
              "\n",
              "  // All done.\n",
              "  yield {\n",
              "    response: {\n",
              "      action: 'complete',\n",
              "    }\n",
              "  };\n",
              "}\n",
              "\n",
              "scope.google = scope.google || {};\n",
              "scope.google.colab = scope.google.colab || {};\n",
              "scope.google.colab._files = {\n",
              "  _uploadFiles,\n",
              "  _uploadFilesContinue,\n",
              "};\n",
              "})(self);\n",
              "</script> "
            ],
            "text/plain": [
              "<IPython.core.display.HTML object>"
            ]
          },
          "metadata": {},
          "output_type": "display_data"
        },
        {
          "name": "stdout",
          "output_type": "stream",
          "text": [
            "Saving test.csv to test.csv\n",
            "Saving train_data.csv to train_data.csv\n",
            "Files loaded successfully!\n"
          ]
        }
      ],
      "source": [
        "from google.colab import files\n",
        "import pandas as pd\n",
        "\n",
        "print(\"upload necessary files!\")\n",
        "uploaded=files.upload()\n",
        "\n",
        "try:\n",
        "  train_data_df=pd.read_csv('/content/train_data.csv')\n",
        "  test_df=pd.read_csv('/content/test.csv')\n",
        "  print(\"Files loaded successfully!\")\n",
        "\n",
        "except FileNotFoundError:\n",
        "  print(\"File not found. Please upload the files again.\")\n",
        "\n",
        "except Exception as e:\n",
        "  print(\"Error loading files:\", e)"
      ]
    },
    {
      "cell_type": "markdown",
      "metadata": {
        "id": "E_rEbjIXwhhb"
      },
      "source": [
        "*(b) Explore Dataset*\n",
        "\n",
        "check distribution of hate speech (HS=1) vs not hate speech (HS=0)"
      ]
    },
    {
      "cell_type": "code",
      "execution_count": null,
      "metadata": {
        "colab": {
          "base_uri": "https://localhost:8080/",
          "height": 772
        },
        "id": "XMjNmVMcxLQq",
        "outputId": "7afd2b96-4802-44ab-c1a8-08c1ea3cdfb8"
      },
      "outputs": [
        {
          "name": "stdout",
          "output_type": "stream",
          "text": [
            "first few rows of the dataset!\n",
            "     id                                               text  HS\n",
            "0  6452  @indigomermaidd You're the exception , you wer...   1\n",
            "1  4884  If a woman doesn't want you just unleash your ...   1\n",
            "2  1931  Son of Jamestown, Protestants that made the US...   0\n",
            "3  4942  Literally just got hit by a car bc this dumb b...   1\n",
            "4  4721  charli: fuck you bitch charli: omg why am i so...   1\n",
            "class distribution:\n",
            "HS\n",
            "0    3455\n",
            "1    2544\n",
            "Name: count, dtype: int64\n"
          ]
        },
        {
          "data": {
            "image/png": "[encoded data removed]",
            "text/plain": [
              "<Figure size 800x600 with 1 Axes>"
            ]
          },
          "metadata": {},
          "output_type": "display_data"
        }
      ],
      "source": [
        "import matplotlib.pyplot as plt\n",
        "\n",
        "print(\"first few rows of the dataset!\")\n",
        "print(train_data_df.head())\n",
        "\n",
        "class_distribution=train_data_df['HS'].value_counts()\n",
        "print(\"class distribution:\")\n",
        "print(class_distribution)\n",
        "\n",
        "plt.figure(figsize=(8, 6))\n",
        "class_distribution.plot(kind='bar', color=['skyblue', 'salmon'])\n",
        "plt.title('Class Distribution')\n",
        "plt.xlabel('Class')\n",
        "plt.ylabel('Count')\n",
        "plt.xticks(rotation=0)\n",
        "plt.show()"
      ]
    },
    {
      "cell_type": "markdown",
      "metadata": {
        "id": "Rp-EQaSyyF7z"
      },
      "source": [
        "**Task 2 : Text Processing**\n",
        "\n",
        "*(a) Tokenization*\n",
        "\n",
        "we will use nltk to tokenize the text data using word_tokenize to split sentence into words"
      ]
    },
    {
      "cell_type": "code",
      "execution_count": null,
      "metadata": {
        "colab": {
          "base_uri": "https://localhost:8080/"
        },
        "id": "YRS8hix_yIzC",
        "outputId": "48b22850-c59f-4936-e4eb-6a69352be5ff"
      },
      "outputs": [
        {
          "name": "stderr",
          "output_type": "stream",
          "text": [
            "[nltk_data] Downloading package punkt_tab to /root/nltk_data...\n",
            "[nltk_data]   Unzipping tokenizers/punkt_tab.zip.\n"
          ]
        },
        {
          "name": "stdout",
          "output_type": "stream",
          "text": [
            "tokenization sample: \n",
            "original: @indigomermaidd You're the exception , you weren't a rude lil cunt like some hoes. ðŸ™ƒðŸ’•\n",
            "tokenized: ['@', 'indigomermaidd', 'you', \"'re\", 'the', 'exception', ',', 'you', 'were', \"n't\", 'a', 'rude', 'lil', 'cunt', 'like', 'some', 'hoes', '.', 'ðÿ™ƒðÿ', '’', '•']\n"
          ]
        }
      ],
      "source": [
        "import nltk\n",
        "from nltk.tokenize import word_tokenize\n",
        "nltk.download(\"punkt_tab\")\n",
        "\n",
        "def tokenize_text(text):\n",
        "  return word_tokenize(text.lower())\n",
        "\n",
        "print(\"tokenization sample: \")\n",
        "sample_text=train_data_df['text'].iloc[0]\n",
        "print(f\"original: {sample_text}\")\n",
        "print(f\"tokenized: {tokenize_text(sample_text)}\")"
      ]
    },
    {
      "cell_type": "markdown",
      "metadata": {
        "id": "tlgo0pbGzTb5"
      },
      "source": [
        "*(b) Stop Word Removal*"
      ]
    },
    {
      "cell_type": "code",
      "execution_count": null,
      "metadata": {
        "colab": {
          "base_uri": "https://localhost:8080/"
        },
        "id": "FC3YaiMbzZ3w",
        "outputId": "febcee17-21b6-40e8-e0b1-53d5c333390e"
      },
      "outputs": [
        {
          "name": "stdout",
          "output_type": "stream",
          "text": [
            "stop word removal sample: \n",
            "original: @indigomermaidd You're the exception , you weren't a rude lil cunt like some hoes. ðŸ™ƒðŸ’•\n",
            "processed: ['indigomermaidd', 'exception', 'rude', 'lil', 'cunt', 'like', 'hoes']\n"
          ]
        },
        {
          "name": "stderr",
          "output_type": "stream",
          "text": [
            "[nltk_data] Downloading package stopwords to /root/nltk_data...\n",
            "[nltk_data]   Unzipping corpora/stopwords.zip.\n"
          ]
        }
      ],
      "source": [
        "from nltk.corpus import stopwords\n",
        "nltk.download(\"stopwords\")\n",
        "\n",
        "stop_words=set(stopwords.words('english'))\n",
        "\n",
        "def preprocess_the_text(text):\n",
        "  tokens=word_tokenize(text.lower())\n",
        "  tokens=[token for token in tokens if token not in stop_words and token.isalnum()]\n",
        "  return tokens\n",
        "\n",
        "print(\"stop word removal sample: \")\n",
        "print(f\"original: {sample_text}\")\n",
        "print(f\"processed: {preprocess_the_text(sample_text)}\")"
      ]
    },
    {
      "cell_type": "markdown",
      "metadata": {
        "id": "-xR2UdbN0m4G"
      },
      "source": [
        "*(c) Stemming*"
      ]
    },
    {
      "cell_type": "code",
      "execution_count": null,
      "metadata": {
        "colab": {
          "base_uri": "https://localhost:8080/"
        },
        "id": "WtCHoLgz0py7",
        "outputId": "d415d75b-2a0f-4908-a999-f79e8ce3eb4d"
      },
      "outputs": [
        {
          "name": "stdout",
          "output_type": "stream",
          "text": [
            "\n",
            "stemming sample: \n",
            "                                                text  \\\n",
            "0  @indigomermaidd You're the exception , you wer...   \n",
            "1  If a woman doesn't want you just unleash your ...   \n",
            "2  Son of Jamestown, Protestants that made the US...   \n",
            "3  Literally just got hit by a car bc this dumb b...   \n",
            "4  charli: fuck you bitch charli: omg why am i so...   \n",
            "\n",
            "                                      processed_text  \n",
            "0       indigomermaidd except rude lil cunt like hoe  \n",
            "1  woman want unleash charm women weak cave almos...  \n",
            "2  son jamestown protest made usa conserv presid ...  \n",
            "3  liter got hit car bc dumb blond bitch phone ev...  \n",
            "4        charli fuck bitch charli omg extra wjahjaaj  \n"
          ]
        }
      ],
      "source": [
        "from nltk.stem import PorterStemmer\n",
        "\n",
        "stemmer=PorterStemmer()\n",
        "\n",
        "def stem_tokens(tokens):\n",
        "  words=word_tokenize(tokens.lower())\n",
        "  words=[word for word in words if word not in stop_words and word.isalnum()]\n",
        "  stemmed_words=[stemmer.stem(word) for word in words]\n",
        "  return ' '.join(stemmed_words)\n",
        "\n",
        "train_data_df['processed_text']=train_data_df['text'].apply(stem_tokens)\n",
        "test_df['processed_text']=test_df['text'].apply(stem_tokens)\n",
        "\n",
        "print(\"\\nstemming sample: \")\n",
        "print(train_data_df[['text', 'processed_text']].head())"
      ]
    },
    {
      "cell_type": "markdown",
      "metadata": {
        "id": "R9AdqdyI2dtb"
      },
      "source": [
        "**Note** - I chose stemming over lemmatization for speed and simplicity. Stemming reduces words to their root form like for example \"spinning\" -> \"spin\" which is sufficient for this classification task."
      ]
    },
    {
      "cell_type": "markdown",
      "metadata": {
        "id": "jiUdYe_m3Ktu"
      },
      "source": [
        "**Task 3 : Feature Extraction**\n",
        "\n",
        "*(a) Bag-of-Words (BoW) representation*\n",
        "\n",
        "we will first split the data for validation then initialize the bow vector then fit and transform the training data."
      ]
    },
    {
      "cell_type": "code",
      "execution_count": null,
      "metadata": {
        "colab": {
          "base_uri": "https://localhost:8080/"
        },
        "id": "4Ip8AS0c36yo",
        "outputId": "d9c211e1-6108-4c7c-d50a-6d6cb6b3ebae"
      },
      "outputs": [
        {
          "name": "stdout",
          "output_type": "stream",
          "text": [
            "bow feature shape:  (4799, 5000)\n"
          ]
        }
      ],
      "source": [
        "from sklearn.feature_extraction.text import CountVectorizer\n",
        "from sklearn.model_selection import train_test_split\n",
        "\n",
        "x_train, x_val, y_train, y_val = train_test_split(train_data_df['processed_text'],train_data_df['HS'],test_size=0.2,random_state=42)\n",
        "\n",
        "bow_vectorizer=CountVectorizer(max_features=5000)\n",
        "\n",
        "x_train_bow=bow_vectorizer.fit_transform(x_train)\n",
        "x_val_bow=bow_vectorizer.transform(x_val)\n",
        "x_test_bow=bow_vectorizer.transform(test_df['processed_text'])\n",
        "\n",
        "print(\"bow feature shape: \", x_train_bow.shape)"
      ]
    },
    {
      "cell_type": "markdown",
      "metadata": {
        "id": "9yGa2wr95dCR"
      },
      "source": [
        "*(b) TF-IDf Representation*"
      ]
    },
    {
      "cell_type": "code",
      "execution_count": null,
      "metadata": {
        "colab": {
          "base_uri": "https://localhost:8080/"
        },
        "id": "NQAtQg8c5kdW",
        "outputId": "c7fee6c3-c8ab-42a3-f097-e6a10f7126b0"
      },
      "outputs": [
        {
          "name": "stdout",
          "output_type": "stream",
          "text": [
            "tfidf feature shape:  (4799, 56314)\n"
          ]
        }
      ],
      "source": [
        "from sklearn.feature_extraction.text import TfidfVectorizer\n",
        "\n",
        "tfidf_vectorizer=TfidfVectorizer(ngram_range=(1,2))\n",
        "\n",
        "x_train_tfidf=tfidf_vectorizer.fit_transform(x_train)\n",
        "x_val_tfidf=tfidf_vectorizer.transform(x_val)\n",
        "x_test_tfidf=tfidf_vectorizer.transform(test_df['processed_text'])\n",
        "\n",
        "print(\"tfidf feature shape: \", x_train_tfidf.shape)"
      ]
    },
    {
      "cell_type": "markdown",
      "metadata": {
        "id": "m1msZpTI6CKL"
      },
      "source": [
        "**Task 4 : Model Training and Evaluation**\n",
        "\n",
        "*(a) Train a Classifier*\n",
        "\n",
        "we will first choose a suitable classifier for text classification - **Naive Bayes**\n",
        "\n",
        "then we will train it on both Bow and TF-IDF features"
      ]
    },
    {
      "cell_type": "code",
      "execution_count": null,
      "metadata": {
        "colab": {
          "base_uri": "https://localhost:8080/"
        },
        "id": "aN2Z86fk65kt",
        "outputId": "489ab3f4-7b34-416e-b1f0-d6c635542ceb"
      },
      "outputs": [
        {
          "name": "stdout",
          "output_type": "stream",
          "text": [
            "models trained successfully\n"
          ]
        }
      ],
      "source": [
        "from sklearn.naive_bayes import MultinomialNB\n",
        "\n",
        "nb_bow=MultinomialNB()\n",
        "nb_bow.fit(x_train_bow, y_train)\n",
        "y_val_pred_bow=nb_bow.predict(x_val_bow)\n",
        "\n",
        "nb_tdif=MultinomialNB()\n",
        "nb_tdif.fit(x_train_tfidf, y_train)\n",
        "y_val_pred_tfidf=nb_tdif.predict(x_val_tfidf)\n",
        "\n",
        "print(\"models trained successfully\")"
      ]
    },
    {
      "cell_type": "markdown",
      "metadata": {
        "id": "a7U0DVPu8fUJ"
      },
      "source": [
        "*(b) Evaluate the Model*"
      ]
    },
    {
      "cell_type": "code",
      "execution_count": null,
      "metadata": {
        "colab": {
          "base_uri": "https://localhost:8080/"
        },
        "id": "smv-ufEa85cs",
        "outputId": "fefa8148-4b30-4d58-9564-a6c857f95396"
      },
      "outputs": [
        {
          "name": "stdout",
          "output_type": "stream",
          "text": [
            "classification report for bow features:\n",
            "              precision    recall  f1-score   support\n",
            "\n",
            "           0       0.80      0.75      0.77       711\n",
            "           1       0.67      0.73      0.69       489\n",
            "\n",
            "    accuracy                           0.74      1200\n",
            "   macro avg       0.73      0.74      0.73      1200\n",
            "weighted avg       0.74      0.74      0.74      1200\n",
            "\n",
            "classification report for tfidf features:\n",
            "              precision    recall  f1-score   support\n",
            "\n",
            "           0       0.74      0.90      0.81       711\n",
            "           1       0.78      0.53      0.63       489\n",
            "\n",
            "    accuracy                           0.75      1200\n",
            "   macro avg       0.76      0.71      0.72      1200\n",
            "weighted avg       0.75      0.75      0.74      1200\n",
            "\n",
            "submission file saved successfully!\n"
          ]
        }
      ],
      "source": [
        "from sklearn.metrics import classification_report\n",
        "\n",
        "print(\"classification report for bow features:\")\n",
        "print(classification_report(y_val, y_val_pred_bow))\n",
        "\n",
        "print(\"classification report for tfidf features:\")\n",
        "print(classification_report(y_val, y_val_pred_tfidf))\n",
        "\n",
        "test_predictions_bow=nb_bow.predict(x_test_bow)\n",
        "test_predictions_tfidf=nb_tdif.predict(x_test_tfidf)\n",
        "\n",
        "submission=pd.DataFrame({'id': test_df['id'], 'HS': test_predictions_tfidf})\n",
        "submission.to_csv('solution.csv', index=False)\n",
        "print(\"submission file saved successfully!\")"
      ]
    },
    {
      "cell_type": "markdown",
      "metadata": {
        "id": "OoHa4f5G-eSS"
      },
      "source": [
        "**Discussion** - Bag of Words (BoW) tends to give too much importance to frequently occurring words, which can sometimes overshadow meaningful terms. In contrast, TF-IDF adjusts for this by assigning higher weights to rare but informative words, often resulting in improved precision and recall."
      ]
    }
  ],
  "metadata": {
    "colab": {
      "provenance": []
    },
    "kernelspec": {
      "display_name": "Python 3",
      "name": "python3"
    },
    "language_info": {
      "name": "python"
    }
  },
  "nbformat": 4,
  "nbformat_minor": 0
}
